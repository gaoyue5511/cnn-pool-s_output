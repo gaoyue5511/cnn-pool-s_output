{
 "cells": [
  {
   "cell_type": "code",
   "execution_count": null,
   "metadata": {},
   "outputs": [],
   "source": [
    "import tensorflow as tf \n",
    "import numpy as np\n",
    "# 举例：\n",
    "# 输入是1张 3*3 大小的图片，图像通道数是5，卷积核是 1*1 大小，数量是1\n",
    "# 步长是[1,1,1,1]最后得到一个 3*3 的feature map\n",
    "# 1张图最后输出就是一个 shape为[1,3,3,1] 的张量\n",
    "input = tf.Variable(tf.random_normal([1,3,3,5]))  #[1,3,3,5] 1是一张图片；3，3是输入图片大小；5是图片深度（第一次是图片通道数，之后就变成了卷积核数，因为有几个卷积核就会有几张特征图）\n",
    "filter = tf.Variable(tf.random_normal([1,1,5,1]))    #[1,1,5,1]  1，1是卷积核大小；5是imput的图片深度；1是本次的卷积核个数\n",
    "op1 = tf.nn.conv2d(input, filter, strides=[1,1,1,1], padding='SAME')   # 卷积 strides=[1,1,1,1]是滑动的步长\n",
    "pool = tf.nn.max_pool(op1,ksize = [1,2,2,1], strides=[1,2,2,1],padding=\"VALID\") # 池化：开头的1和结尾的1，是图片数量和深度，中间的2,2是池化步长。\n",
    "\n",
    "init = tf.initialize_all_variables() \n",
    "with tf.Session() as sess:\n",
    "    sess.run(init)\n",
    "    print('*' * 20 + ' op1 ' + '*' * 20)\n",
    "    a = sess.run(op1)\n",
    "    b = sess.run(pool)\n",
    "    print(\"卷积结果：\",np.shape(a))\n",
    "    print(\"池化结果：\",np.shape(b))\n",
    "    \n",
    "    \n",
    "    \n"
   ]
  },
  {
   "cell_type": "markdown",
   "metadata": {},
   "source": [
    "### 以上代码参考了\n",
    "https://blog.csdn.net/zuolixiangfisher/article/details/80528989[https://blog.csdn.net/zuolixiangfisher/article/details/80528989]"
   ]
  },
  {
   "cell_type": "code",
   "execution_count": null,
   "metadata": {},
   "outputs": [],
   "source": []
  }
 ],
 "metadata": {
  "kernelspec": {
   "display_name": "Python 3",
   "language": "python",
   "name": "python3"
  },
  "language_info": {
   "codemirror_mode": {
    "name": "ipython",
    "version": 3
   },
   "file_extension": ".py",
   "mimetype": "text/x-python",
   "name": "python",
   "nbconvert_exporter": "python",
   "pygments_lexer": "ipython3",
   "version": "3.6.5"
  }
 },
 "nbformat": 4,
 "nbformat_minor": 2
}
